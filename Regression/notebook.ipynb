{
 "cells": [
  {
   "cell_type": "code",
   "execution_count": 1,
   "metadata": {
    "collapsed": true
   },
   "outputs": [],
   "source": [
    "from Regression.data_management import *\n",
    "import numpy as np\n",
    "import matplotlib.pyplot as plt\n",
    "import tflearn\n",
    "\n",
    "# save_data('./DATA/BDD1_traite/', './DATA/BDD1_BB.txt', 'Regression/BDD1.npz')\n",
    "data = load_data('BDD1.npz')"
   ]
  },
  {
   "cell_type": "code",
   "execution_count": 2,
   "metadata": {},
   "outputs": [
    {
     "name": "stdout",
     "output_type": "stream",
     "text": [
      "[ 98 110 161 225]\n[-3.93366814 -3.01013184 -3.53346896 ...,  1.26891863 -1.07070613\n  0.71479702]\n"
     ]
    }
   ],
   "source": [
    "Y = data.Train.Label\n",
    "X = data.Train.Images\n",
    "np.shape(X)\n",
    "print(Y[0,:])\n",
    "print(X[6,:])"
   ]
  },
  {
   "cell_type": "code",
   "execution_count": 16,
   "metadata": {},
   "outputs": [
    {
     "name": "stdout",
     "output_type": "stream",
     "text": [
      "[104 121  17  55]\n"
     ]
    }
   ],
   "source": [
    "V,W=tflearn.data_utils.shuffle(X,Y)\n",
    "np.shape(V)\n",
    "print(W[0,:])"
   ]
  },
  {
   "cell_type": "code",
   "execution_count": 23,
   "metadata": {},
   "outputs": [
    {
     "data": {
      "text/plain": [
       "array([[-0.21076626,  0.1456581 ,  0.81854953, ...,  0.79292033,\n         0.59591102, -1.61615308],\n       [ 0.92796265, -0.2852123 ,  1.03398473, ...,  0.17739119,\n         0.01115834,  0.13810498],\n       [ 1.66659762,  1.68448095, -1.70511995, ...,  0.70059096,\n         1.24221662, -0.29276542],\n       ..., \n       [-3.07297677, -3.5167403 , -0.07396773, ...,  0.97757907,\n        -0.94291183, -0.90829456],\n       [ 0.15855123, -0.10055356, -0.78182624, ..., -0.13037338,\n        -0.819806  ,  0.44586955],\n       [ 1.60504471,  1.16128118,  1.18786701, ...,  0.79292033,\n         0.34969937,  0.69208121]])"
      ]
     },
     "execution_count": 23,
     "metadata": {},
     "output_type": "execute_result"
    }
   ],
   "source": [
    "X-=np.mean(X)\n",
    "X /= np.std(X)\n",
    "X"
   ]
  },
  {
   "cell_type": "code",
   "execution_count": null,
   "metadata": {},
   "outputs": [],
   "source": [
    ""
   ]
  }
 ],
 "metadata": {
  "kernelspec": {
   "display_name": "Python 2",
   "language": "python",
   "name": "python2"
  },
  "language_info": {
   "codemirror_mode": {
    "name": "ipython",
    "version": 2.0
   },
   "file_extension": ".py",
   "mimetype": "text/x-python",
   "name": "python",
   "nbconvert_exporter": "python",
   "pygments_lexer": "ipython2",
   "version": "2.7.6"
  }
 },
 "nbformat": 4,
 "nbformat_minor": 0
}